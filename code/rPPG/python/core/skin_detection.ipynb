{
 "cells": [
  {
   "cell_type": "code",
   "execution_count": 1,
   "metadata": {},
   "outputs": [],
   "source": [
    "import sys\n",
    "sys.path += [\"/home/yousuf/workspace/dissertation/code/rPPG/python/core\"]"
   ]
  },
  {
   "cell_type": "code",
   "execution_count": 2,
   "metadata": {},
   "outputs": [],
   "source": [
    "from region_selection import BayesianSkinDetector\n",
    "import helper"
   ]
  },
  {
   "cell_type": "code",
   "execution_count": null,
   "metadata": {},
   "outputs": [],
   "source": [
    "images = helper.get_cropped_test_images()\n",
    "helper.show_images_plt(images)"
   ]
  },
  {
   "cell_type": "code",
   "execution_count": null,
   "metadata": {},
   "outputs": [],
   "source": [
    "heatmaps = [BayesianSkinDetector(skin_std=40, non_skin_std=150).detect(i) for i in images]"
   ]
  },
  {
   "cell_type": "code",
   "execution_count": null,
   "metadata": {},
   "outputs": [],
   "source": [
    "import numpy as np\n",
    "for t in heatmaps:\n",
    "    x,v= t\n",
    "#     print(x)\n",
    "#     print(y)\n",
    "    print(\"Skin posterior\")\n",
    "    helper.display_heatmap([x])\n",
    "#     print(\"Not skin posterior\")\n",
    "#     helper.display_heatmap([y])\n",
    "#     print(z)\n",
    "    print(\"Mask above mean\")\n",
    "    helper.display_heatmap([x>np.mean(x)])\n",
    "    print(\"Top 70% of values\")\n",
    "    helper.display_heatmap([x>np.percentile(x, 30)])\n",
    "    print(\"Top 80% of values\")\n",
    "    helper.display_heatmap([x>np.percentile(x, 20)])\n",
    "    print(\"Mean value\")\n",
    "    print(v)\n"
   ]
  },
  {
   "cell_type": "code",
   "execution_count": null,
   "metadata": {},
   "outputs": [],
   "source": [
    "import matplotlib\n",
    "import matplotlib.cm as cm\n",
    "cmap = cm.get_cmap('RdBu')"
   ]
  },
  {
   "cell_type": "code",
   "execution_count": null,
   "metadata": {},
   "outputs": [],
   "source": [
    "list(map(cmap, [0,0.5, 0.6]))"
   ]
  },
  {
   "cell_type": "code",
   "execution_count": null,
   "metadata": {},
   "outputs": [],
   "source": [
    "import numpy as np\n",
    "distribution = np.array([[0.1, 0.4],[0.5, 0]])\n",
    "image = np.array([[[10,10,10],[20,20,20]],[[100,100,100], [10000,10000,10000]]])\n",
    "print(np.sum(image[:,:,0]*distribution))\n",
    "# np.broadcast(distribution,image)"
   ]
  },
  {
   "cell_type": "code",
   "execution_count": null,
   "metadata": {},
   "outputs": [],
   "source": [
    "import region_selection\n",
    "region_selection.weighted_mean(image, distribution)"
   ]
  },
  {
   "cell_type": "code",
   "execution_count": null,
   "metadata": {},
   "outputs": [],
   "source": [
    "distribution = np.array([[1, 0],[1, 0]])\n",
    "region_selection.weighted_mean(image, distribution)"
   ]
  },
  {
   "cell_type": "code",
   "execution_count": null,
   "metadata": {},
   "outputs": [],
   "source": []
  },
  {
   "cell_type": "code",
   "execution_count": null,
   "metadata": {},
   "outputs": [],
   "source": [
    "import pipeline\n",
    "from configuration import Configuration\n",
    "from face_det import KLTBoxingWithThresholding, DNNDetector\n",
    "from region_selection import BayesianSkinDetector\n",
    "from hr_isolator import ICAProcessor\n",
    "\n",
    "config = Configuration(KLTBoxingWithThresholding(DNNDetector()),  BayesianSkinDetector(), ICAProcessor(), 1200, 60)\n",
    "pipeline.tracking_pipeline(\"test-face-detection-videos/mov-1.mp4\",config,display=True)"
   ]
  },
  {
   "cell_type": "code",
   "execution_count": 70,
   "metadata": {},
   "outputs": [
    {
     "name": "stdout",
     "output_type": "stream",
     "text": [
      "[[0.18588674 0.19640163 0.19640163 ... 0.1523237  0.16160308 0.16160308]\n",
      " [0.18588674 0.20024139 0.19640163 ... 0.16160308 0.1523237  0.1523237 ]\n",
      " [0.18588674 0.18588674 0.18588674 ... 0.16160308 0.16160308 0.16160308]\n",
      " ...\n",
      " [0.1725142  0.18257402 0.18257402 ... 0.17558967 0.17558967 0.18583004]\n",
      " [0.1725142  0.1725142  0.1725142  ... 0.17558967 0.17558967 0.17558967]\n",
      " [0.1725142  0.1725142  0.18257402 ... 0.18583004 0.18583004 0.18583004]]\n"
     ]
    }
   ],
   "source": [
    "from visualisation import Visualiser\n",
    "from face_det import DNNDetector\n",
    "from face_det import KLTBoxingWithThresholding, DNNDetector\n",
    "from region_selection import BayesianSkinDetector\n",
    "from hr_isolator import ICAProcessor\n",
    "from region_selection import BayesianSkinDetector\n",
    "import helper\n",
    "im = helper.get_test_images()[0]\n",
    "cr = helper.get_cropped_test_images()[0]\n",
    "hmap, value = BayesianSkinDetector(skin_std=40, non_skin_std=150).detect(cr) \n",
    "x = display(im, DNNDetector().detect_face(im), hmap)\n",
    "x = [np.array(x[i], dtype=np.uint8) for i in range(4)]\n",
    "helper.show_images_plt(x)"
   ]
  },
  {
   "cell_type": "code",
   "execution_count": 69,
   "metadata": {},
   "outputs": [],
   "source": [
    "import numpy as np\n",
    "import cv2 as cv\n",
    "import matplotlib\n",
    "import matplotlib.cm as cm\n",
    "def display(frame, faces, area_of_interest):\n",
    "    height, width, _ = frame.shape\n",
    "    x,y,w,h = faces[0]\n",
    "    cmap = cm.get_cmap('winter')\n",
    "    print(area_of_interest)\n",
    "\n",
    "    area_of_interest = np.pad(area_of_interest, ((y,height-(y+h)),(x,width-(x+w))), 'constant', constant_values=0)\n",
    "    mask_of_roi = np.pad(np.ones(shape=(h,w)), ((y,height-(y+h)),(x,width-(x+w))), 'constant', constant_values=0)\n",
    "    h,w = area_of_interest.shape\n",
    "    rectangle = 255*np.array(list(map(cmap, area_of_interest)))\n",
    "    rectangle = rectangle.reshape((h,w,4))\n",
    "    mask_of_roi = np.repeat(mask_of_roi[:, :, np.newaxis], 3, axis=2)\n",
    "\n",
    "    # Overlay the points being considered and the rectangle of the face\n",
    "    # rectangle = np.full(shape=(height,width,3), fill_value=[0,255,0], dtype=np.uint8)\n",
    "    rectangle = rectangle[:,:,:3]\n",
    "    # Need to take and with one vector since otherwise we get 254 instead of the desired value of 0 at each point outside the mask\n",
    "    # i.e. NOT(0000 0001) = 1111 1110 rather than 0\n",
    "    # mask_of_roi = cv.bitwise_and(cv.bitwise_not(area_of_interest), np.ones(shape=(height,width,3), dtype=np.uint8))\n",
    "    alpha = 0.8\n",
    "    foreground = rectangle.astype(float)\n",
    "    background = frame.astype(float)\n",
    "    mask_of_roi = mask_of_roi.astype(float)/2\n",
    "    # print(mask_of_roi.shape)\n",
    "    # print(rectangle.shape)\n",
    "    foreground = cv.multiply(mask_of_roi, foreground)\n",
    "    background = cv.multiply(1.0-mask_of_roi, background)\n",
    "    blended = cv.addWeighted(foreground, alpha, background, 1, 0)\n",
    "    return rectangle, foreground, background, blended\n",
    "    # self.out.write(np.uint8(blended))"
   ]
  },
  {
   "cell_type": "code",
   "execution_count": null,
   "metadata": {},
   "outputs": [],
   "source": []
  }
 ],
 "metadata": {
  "kernelspec": {
   "display_name": "Python 3",
   "language": "python",
   "name": "python3"
  },
  "language_info": {
   "codemirror_mode": {
    "name": "ipython",
    "version": 3
   },
   "file_extension": ".py",
   "mimetype": "text/x-python",
   "name": "python",
   "nbconvert_exporter": "python",
   "pygments_lexer": "ipython3",
   "version": "3.7.5"
  }
 },
 "nbformat": 4,
 "nbformat_minor": 2
}
